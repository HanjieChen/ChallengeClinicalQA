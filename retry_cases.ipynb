{
 "cells": [
  {
   "cell_type": "code",
   "execution_count": 2,
   "metadata": {},
   "outputs": [
    {
     "name": "stdout",
     "output_type": "stream",
     "text": [
      "Filtered data written to retry_jama_clinical_cases.json\n"
     ]
    }
   ],
   "source": [
    "import json\n",
    "\n",
    "# Load the failed URLs from the text file\n",
    "with open('failed_urls_date.txt', 'r') as f:\n",
    "    failed_urls = [url.strip() for url in f.readlines()]\n",
    "\n",
    "# Load the JSON data\n",
    "with open('jama_clinical_cases.json', 'r') as f:\n",
    "    data = json.load(f)\n",
    "\n",
    "# Filter the JSON entries with links appearing in the failed_urls list\n",
    "retry_data = [entry for entry in data if entry['link'] in failed_urls]\n",
    "\n",
    "# Write the filtered data to a new JSON file\n",
    "with open('retry_jama_clinical_cases.json', 'w') as f:\n",
    "    json.dump(retry_data, f, indent=4)\n",
    "\n",
    "print(\"Filtered data written to retry_jama_clinical_cases.json\")\n"
   ]
  }
 ],
 "metadata": {
  "kernelspec": {
   "display_name": "gamma",
   "language": "python",
   "name": "python3"
  },
  "language_info": {
   "codemirror_mode": {
    "name": "ipython",
    "version": 3
   },
   "file_extension": ".py",
   "mimetype": "text/x-python",
   "name": "python",
   "nbconvert_exporter": "python",
   "pygments_lexer": "ipython3",
   "version": "3.9.18"
  }
 },
 "nbformat": 4,
 "nbformat_minor": 2
}
